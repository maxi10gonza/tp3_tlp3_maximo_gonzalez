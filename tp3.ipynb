{
 "cells": [
  {
   "cell_type": "markdown",
   "id": "498731c6",
   "metadata": {},
   "source": [
    "# Trabajo Practico n3 - Trabajando con Lists y Sets.\n",
    "## Criterios de evaluación.\n",
    "\n",
    "* Se deben utilizar nombres de variables descriptivos y claros (Utilizar la nomeclatura correspondiente para los nombres de variables).\n",
    "* Comentarios claros y concisos que expliquen el propósito de cada sección del código.\n",
    "* Utilizar mensajes de commit **descriptivos**. (Puedes utilizar la extension CONVENTIONAL COMMIT de VS-CODE). \n",
    "* Entrega en tiempo y forma.\n",
    "* Todo el código desarrollado debe ser subido a un repositorio en GitHub (el nombre del repositorio de seguir la siguiente estructura: tp3_tlp3_nombre_apellido).\n",
    "* Para resolver las actividades se debe insertar casillas de codigo entre cada actividad del cuaderno de Jupyter\n",
    "* El repositorio de GitHub debe incluir un archivo README.md con las instrucciones necesarias para la correcta ejecución del código.\n",
    "\n",
    "### ¡Importante!\n",
    "**El incumplimiento de los criterios de evaluación restará puntos en la nota final del práctico!**"
   ]
  },
  {
   "cell_type": "markdown",
   "id": "b361a7b6",
   "metadata": {},
   "source": [
    "### Actividad 1: \n",
    "Suma de todos los elementos de una lista, utilizando bucles repetitivos (for, while)."
   ]
  },
  {
   "cell_type": "code",
   "execution_count": 7,
   "id": "26009294",
   "metadata": {},
   "outputs": [
    {
     "name": "stdout",
     "output_type": "stream",
     "text": [
      "La suma es: 204\n"
     ]
    }
   ],
   "source": [
    "\n",
    "# todo:\n",
    "\n",
    "numbers = [14, 23, 34, 48, 85]\n",
    "\n",
    "suma = 0\n",
    "\n",
    "for numero in numbers:\n",
    "    suma += numero\n",
    "\n",
    "print(\"La suma es:\", suma)\n"
   ]
  },
  {
   "cell_type": "code",
   "execution_count": 8,
   "id": "f3047b26",
   "metadata": {},
   "outputs": [
    {
     "name": "stdout",
     "output_type": "stream",
     "text": [
      "La suma es: 204\n"
     ]
    }
   ],
   "source": [
    "numbers = [14, 23, 34, 48, 85]\n",
    "\n",
    "suma = 0\n",
    "i = 0\n",
    "\n",
    "while i < len(numbers):\n",
    "    suma += numbers[i]\n",
    "    i += 1\n",
    "\n",
    "print(\"La suma es:\", suma)"
   ]
  },
  {
   "cell_type": "markdown",
   "id": "0c239195",
   "metadata": {},
   "source": [
    "### Actividad 2: \n",
    "Encontrar el número más grande en una lista, utilizando bucles repetitivos (for, while)."
   ]
  },
  {
   "cell_type": "code",
   "execution_count": 10,
   "id": "3611d25a",
   "metadata": {},
   "outputs": [
    {
     "name": "stdout",
     "output_type": "stream",
     "text": [
      "Número más grande (for): 93\n"
     ]
    }
   ],
   "source": [
    "\n",
    "# todo:\n",
    "\n",
    "from random import randint\n",
    "random_numbers =[randint(1, 100) for i in range(5)]\n",
    "\n",
    "max_num = random_numbers[0]\n",
    "\n",
    "for num in random_numbers:\n",
    "    if num > max_num:\n",
    "        max_num = num\n",
    "\n",
    "print(\"Número más grande (for):\", max_num)\n",
    "\n"
   ]
  },
  {
   "cell_type": "code",
   "execution_count": 9,
   "id": "f2c9f55a",
   "metadata": {},
   "outputs": [
    {
     "name": "stdout",
     "output_type": "stream",
     "text": [
      "Número más grande (for): 69\n"
     ]
    }
   ],
   "source": [
    "from random import randint\n",
    "random_numbers =[randint(1, 100) for i in range(5)]\n",
    "\n",
    "max_num = random_numbers[0]\n",
    "\n",
    "for num in random_numbers:\n",
    "    if num > max_num:\n",
    "        max_num = num\n",
    "\n",
    "print(\"Número más grande (for):\", max_num_while)"
   ]
  },
  {
   "cell_type": "markdown",
   "id": "70a24b97",
   "metadata": {},
   "source": [
    "### Actividad 3:\n",
    "Contar cuántas veces aparece un número específico. Utiliza estructuras repetitivas para la resolucion de este ejercicio. "
   ]
  },
  {
   "cell_type": "code",
   "execution_count": 12,
   "id": "a9c8ebc7",
   "metadata": {},
   "outputs": [
    {
     "name": "stdout",
     "output_type": "stream",
     "text": [
      "Lista generada: [183, 66, 128, 152, 163, 84, 110, 81, 139, 80, 142, 184, 88, 50, 126, 91, 87, 7, 69, 21]\n",
      "El número 2 aparece 0 veces (usando for).\n"
     ]
    }
   ],
   "source": [
    "\n",
    "# todo:\n",
    "\n",
    "lists = [randint(1, 200) for i in range(20)]\n",
    "print(\"Lista generada:\", lists)\n",
    "\n",
    "numero_buscado = int(input(\"Ingresa el número que quieres contar: \"))\n",
    "\n",
    "contador = 0\n",
    "\n",
    "for num in lists:\n",
    "    if num == numero_buscado:\n",
    "        contador += 1\n",
    "\n",
    "print(f\"El número {numero_buscado} aparece {contador} veces (usando for).\")\n",
    "\n"
   ]
  },
  {
   "cell_type": "code",
   "execution_count": 11,
   "id": "c0537d06",
   "metadata": {},
   "outputs": [
    {
     "name": "stdout",
     "output_type": "stream",
     "text": [
      "Lista generada: [51, 147, 155, 38, 136, 160, 14, 3, 49, 145, 64, 64, 21, 66, 56, 15, 159, 2, 21, 5]\n",
      "El número 2 aparece 1 veces (usando while).\n"
     ]
    }
   ],
   "source": [
    "lists = [randint(1, 200) for i in range(20)]\n",
    "print(\"Lista generada:\", lists)\n",
    "\n",
    "numero_buscado = int(input(\"Ingresa el número que quieres contar: \"))\n",
    "\n",
    "contador = 0\n",
    "i = 0\n",
    "\n",
    "while i < len(lists):\n",
    "    if lists[i] == numero_buscado:\n",
    "        contador += 1\n",
    "    i += 1\n",
    "\n",
    "print(f\"El número {numero_buscado} aparece {contador} veces (usando while).\")\n"
   ]
  },
  {
   "cell_type": "markdown",
   "id": "b8dac397",
   "metadata": {},
   "source": [
    "### Actividad 4: \n",
    "Invertir una lista sin usar reverse() ni [::-1]"
   ]
  },
  {
   "cell_type": "code",
   "execution_count": null,
   "id": "d04fd492",
   "metadata": {},
   "outputs": [],
   "source": [
    "\n",
    "# todo:\n",
    "\n",
    "lists_two = [randint(1, 50) for i in range(8)]\n",
    "\n",
    "invertida = []\n",
    "\n",
    "for i in range(len(lists_two) - 1, -1, -1):\n",
    "    invertida.append(lists_two[i])\n",
    "\n",
    "print(\"Lista invertida (for):\", invertida)\n"
   ]
  },
  {
   "cell_type": "code",
   "execution_count": null,
   "id": "6b17bf85",
   "metadata": {},
   "outputs": [],
   "source": [
    "\n",
    "lists_two = [randint(1, 50) for i in range(8)]\n",
    "\n",
    "invertida = []\n",
    "i = len(lists_two) - 1\n",
    "\n",
    "while i >= 0:\n",
    "    invertida.append(lists_two[i])\n",
    "    i -= 1\n",
    "\n",
    "print(\"Lista invertida (while):\", invertida)\n"
   ]
  },
  {
   "cell_type": "markdown",
   "id": "8889d0f2",
   "metadata": {},
   "source": [
    "### Actividad 5:\n",
    "Sumar los elementos de dos listas posición por posición, utilizando solo bucles repetititivos (for,while)."
   ]
  },
  {
   "cell_type": "code",
   "execution_count": 14,
   "id": "bc0ec844",
   "metadata": {},
   "outputs": [
    {
     "name": "stdout",
     "output_type": "stream",
     "text": [
      "Suma posición por posición (for): [3, 7, 11, 16, 18]\n"
     ]
    }
   ],
   "source": [
    "\n",
    "# todo:\n",
    "\n",
    "lists_one = [ 2,4,6,7,8 ]\n",
    "lists_two = [ 1,3,5,9,10 ]\n",
    "\n",
    "suma = []\n",
    "\n",
    "for i in range(len(lists_one)):\n",
    "    suma.append(lists_one[i] + lists_two[i])\n",
    "\n",
    "print(\"Suma posición por posición (for):\", suma)\n"
   ]
  },
  {
   "cell_type": "code",
   "execution_count": 13,
   "id": "89304f8a",
   "metadata": {},
   "outputs": [
    {
     "name": "stdout",
     "output_type": "stream",
     "text": [
      "Suma posición por posición (while): [3, 7, 11, 16, 18]\n"
     ]
    }
   ],
   "source": [
    "\n",
    "lists_one = [ 2,4,6,7,8 ]\n",
    "lists_two = [ 1,3,5,9,10 ]\n",
    "\n",
    "suma = []\n",
    "i = 0\n",
    "\n",
    "while i < len(lists_one):\n",
    "    suma.append(lists_one[i] + lists_two[i])\n",
    "    i += 1\n",
    "\n",
    "print(\"Suma posición por posición (while):\", suma)\n"
   ]
  },
  {
   "cell_type": "markdown",
   "id": "8ce33e6b",
   "metadata": {},
   "source": [
    "### Actividad 6:\n",
    "\n",
    "Escribir un programa que almacene el abecedario en una lista, elimine de la lista las letras que ocupen posiciones múltiplos de 3, y muestre por pantalla la lista resultante."
   ]
  },
  {
   "cell_type": "code",
   "execution_count": 21,
   "id": "b07326e2",
   "metadata": {},
   "outputs": [
    {
     "name": "stdout",
     "output_type": "stream",
     "text": [
      "Abecedario original: ['a', 'b', 'c', 'd', 'e', 'f', 'g', 'h', 'i', 'j', 'k', 'l', 'm', 'n', 'o', 'p', 'q', 'r', 's', 't', 'u', 'v', 'w', 'x', 'y', 'z']\n",
      "Abecedario sin letras en posiciones múltiplos de 3: ['a', 'b', 'd', 'e', 'g', 'h', 'j', 'k', 'm', 'n', 'p', 'q', 's', 't', 'v', 'w', 'y', 'z']\n"
     ]
    }
   ],
   "source": [
    "\n",
    "# todo:\n",
    "\n",
    "import string\n",
    "\n",
    "abecedario = list(string.ascii_lowercase)\n",
    "print(\"Abecedario original:\", abecedario)\n",
    "\n",
    "resultado = []\n",
    "\n",
    "for i in range(len(abecedario)):\n",
    "    if (i + 1) % 3 != 0:\n",
    "        resultado.append(abecedario[i])\n",
    "\n",
    "print(\"Abecedario sin letras en posiciones múltiplos de 3:\", resultado)\n"
   ]
  },
  {
   "cell_type": "markdown",
   "id": "5bfeb4b5",
   "metadata": {},
   "source": [
    "### Actividad 7:\n",
    "\n",
    "Escribir un programa que pida al usuario una palabra y muestre por pantalla si es un palíndromo (una palabra que se escribe de la misma forma al derecho y al reves)."
   ]
  },
  {
   "cell_type": "code",
   "execution_count": 15,
   "id": "2365afcc",
   "metadata": {},
   "outputs": [
    {
     "name": "stdout",
     "output_type": "stream",
     "text": [
      "Es un palíndromo.\n"
     ]
    }
   ],
   "source": [
    "\n",
    "# todo:\n",
    "\n",
    "palabra = input(\"Ingresa una palabra: \").lower() \n",
    "\n",
    "es_palindromo = True\n",
    "longitud = len(palabra)\n",
    "\n",
    "for i in range(longitud // 2):\n",
    "    if palabra[i] != palabra[longitud - 1 - i]:\n",
    "        es_palindromo = False\n",
    "        break\n",
    "\n",
    "if es_palindromo:\n",
    "    print(\"Es un palíndromo.\")\n",
    "else:\n",
    "    print(\"No es un palíndromo.\")\n"
   ]
  },
  {
   "cell_type": "markdown",
   "id": "ed8b51be",
   "metadata": {},
   "source": [
    "### Actividad 8:\n",
    "\n",
    "Teniendo en cuenta el conjunto 1 y el conjunto 2, sin usar el operador de intersección &, calcular la intersección de dichos conjuntos."
   ]
  },
  {
   "cell_type": "code",
   "execution_count": null,
   "id": "21a434b9",
   "metadata": {},
   "outputs": [],
   "source": [
    "conjunto1 = {1, 2, 3, 4}\n",
    "conjunto2 = {3, 4, 5, 6}\n",
    "# todo:\n",
    "interseccion = set()\n",
    "\n",
    "for elemento in conjunto1:\n",
    "    if elemento in conjunto2:\n",
    "        interseccion.add(elemento)\n",
    "\n",
    "print(\"Intersección (sin usar &):\", interseccion)"
   ]
  },
  {
   "cell_type": "markdown",
   "id": "31b460dc",
   "metadata": {},
   "source": [
    "### Actividad 9:\n",
    "Eliminar duplicados de una lista usando un set."
   ]
  },
  {
   "cell_type": "code",
   "execution_count": 19,
   "id": "0ef62008",
   "metadata": {},
   "outputs": [
    {
     "name": "stdout",
     "output_type": "stream",
     "text": [
      "Lista sin duplicados: [1, 2, 3, 4, 5, 6, 7]\n",
      "Lista sin duplicados (orden conservado): [1, 2, 3, 5, 4, 6, 7]\n"
     ]
    }
   ],
   "source": [
    "\n",
    "# todo:\n",
    "lista = [1, 2, 2, 3, 5, 5, 4, 4, 6, 6, 7]\n",
    "lista_sin_duplicados = list(set(lista))\n",
    "\n",
    "print(\"Lista sin duplicados:\", lista_sin_duplicados)\n",
    "\n",
    "lista_sin_duplicados = []\n",
    "vistos = set()\n",
    "\n",
    "for elemento in lista:\n",
    "    if elemento not in vistos:\n",
    "        lista_sin_duplicados.append(elemento)\n",
    "        vistos.add(elemento)\n",
    "\n",
    "print(\"Lista sin duplicados (orden conservado):\", lista_sin_duplicados)\n",
    "\n"
   ]
  },
  {
   "cell_type": "markdown",
   "id": "075f1f2c",
   "metadata": {},
   "source": [
    "### Actividad 10:\n",
    "\n",
    "Escribir un programa que cree 2 matrices y realice su multiplicacion."
   ]
  },
  {
   "cell_type": "code",
   "execution_count": null,
   "id": "4c1fd0e1",
   "metadata": {},
   "outputs": [],
   "source": [
    "\n",
    "# todo:\n",
    "\n"
   ]
  }
 ],
 "metadata": {
  "kernelspec": {
   "display_name": "Python 3",
   "language": "python",
   "name": "python3"
  },
  "language_info": {
   "codemirror_mode": {
    "name": "ipython",
    "version": 3
   },
   "file_extension": ".py",
   "mimetype": "text/x-python",
   "name": "python",
   "nbconvert_exporter": "python",
   "pygments_lexer": "ipython3",
   "version": "3.12.9"
  }
 },
 "nbformat": 4,
 "nbformat_minor": 5
}
